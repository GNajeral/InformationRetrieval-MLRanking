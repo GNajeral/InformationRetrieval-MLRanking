{
 "cells": [
  {
   "attachments": {},
   "cell_type": "markdown",
   "metadata": {},
   "source": [
    "# IREI: Search Engines & Real World Data\n",
    "### Víctor Morcuende Castell and Guillermo Nájera Lavid\n",
    "#### Course 2022-2023"
   ]
  },
  {
   "cell_type": "code",
   "execution_count": 1,
   "metadata": {},
   "outputs": [],
   "source": [
    "import pandas as pd\n",
    "from sklearn.model_selection import train_test_split\n",
    "from sklearn import preprocessing\n",
    "from sklearn.ensemble import AdaBoostRegressor\n",
    "from sklearn.tree import DecisionTreeRegressor\n",
    "from sklearn.metrics import ndcg_score"
   ]
  },
  {
   "cell_type": "code",
   "execution_count": 2,
   "metadata": {},
   "outputs": [],
   "source": [
    "# Load data\n",
    "glucose_df = pd.read_excel('loinc_dataset-v2.xlsx', sheet_name = \"glucose in blood\")\n",
    "bilirubin_df = pd.read_excel('loinc_dataset-v2.xlsx', sheet_name = \"bilirubin in plasma\")\n",
    "wbc_df = pd.read_excel('loinc_dataset-v2.xlsx', sheet_name = \"White blood cells count\")\n",
    "glucose_target = glucose_df.pop('relevant')\n",
    "bilirubin_target = bilirubin_df.pop('relevant')\n",
    "wbc_target = wbc_df.pop('relevant')"
   ]
  },
  {
   "cell_type": "code",
   "execution_count": 3,
   "metadata": {},
   "outputs": [
    {
     "data": {
      "text/html": [
       "<div>\n",
       "<style scoped>\n",
       "    .dataframe tbody tr th:only-of-type {\n",
       "        vertical-align: middle;\n",
       "    }\n",
       "\n",
       "    .dataframe tbody tr th {\n",
       "        vertical-align: top;\n",
       "    }\n",
       "\n",
       "    .dataframe thead th {\n",
       "        text-align: right;\n",
       "    }\n",
       "</style>\n",
       "<table border=\"1\" class=\"dataframe\">\n",
       "  <thead>\n",
       "    <tr style=\"text-align: right;\">\n",
       "      <th></th>\n",
       "      <th>loinc_num</th>\n",
       "      <th>long_common_name</th>\n",
       "      <th>component</th>\n",
       "      <th>system</th>\n",
       "      <th>property</th>\n",
       "    </tr>\n",
       "  </thead>\n",
       "  <tbody>\n",
       "    <tr>\n",
       "      <th>0</th>\n",
       "      <td>33870-7</td>\n",
       "      <td>Bilirubin.total [Presence] in Unspecified spec...</td>\n",
       "      <td>Bilirubin</td>\n",
       "      <td>XXX</td>\n",
       "      <td>PrThr</td>\n",
       "    </tr>\n",
       "    <tr>\n",
       "      <th>1</th>\n",
       "      <td>29265-6</td>\n",
       "      <td>Calcium [Moles/volume] corrected for albumin i...</td>\n",
       "      <td>Calcium^^corrected for albumin</td>\n",
       "      <td>Ser/Plas</td>\n",
       "      <td>SCnc</td>\n",
       "    </tr>\n",
       "    <tr>\n",
       "      <th>2</th>\n",
       "      <td>14423-8</td>\n",
       "      <td>Bilirubin.total [Mass/volume] in Synovial fluid</td>\n",
       "      <td>Bilirubin</td>\n",
       "      <td>Synv fld</td>\n",
       "      <td>MCnc</td>\n",
       "    </tr>\n",
       "    <tr>\n",
       "      <th>3</th>\n",
       "      <td>23658-8</td>\n",
       "      <td>Other Antibiotic [Susceptibility]</td>\n",
       "      <td>Antibiotic XXX</td>\n",
       "      <td>Isolate</td>\n",
       "      <td>Susc</td>\n",
       "    </tr>\n",
       "    <tr>\n",
       "      <th>4</th>\n",
       "      <td>19000-9</td>\n",
       "      <td>Vancomycin [Susceptibility]</td>\n",
       "      <td>Vancomycin</td>\n",
       "      <td>Isolate</td>\n",
       "      <td>Susc</td>\n",
       "    </tr>\n",
       "    <tr>\n",
       "      <th>...</th>\n",
       "      <td>...</td>\n",
       "      <td>...</td>\n",
       "      <td>...</td>\n",
       "      <td>...</td>\n",
       "      <td>...</td>\n",
       "    </tr>\n",
       "    <tr>\n",
       "      <th>62</th>\n",
       "      <td>26484-6</td>\n",
       "      <td>Monocytes [#/volume] in Blood</td>\n",
       "      <td>Monocytes</td>\n",
       "      <td>Bld</td>\n",
       "      <td>NCnc</td>\n",
       "    </tr>\n",
       "    <tr>\n",
       "      <th>63</th>\n",
       "      <td>1250-0</td>\n",
       "      <td>Major crossmatch [interpretation]</td>\n",
       "      <td>Major crossmatch</td>\n",
       "      <td>Ser/Plas</td>\n",
       "      <td>Imp</td>\n",
       "    </tr>\n",
       "    <tr>\n",
       "      <th>64</th>\n",
       "      <td>18864-9</td>\n",
       "      <td>Ampicillin [Susceptibility]</td>\n",
       "      <td>Ampicillin</td>\n",
       "      <td>Isolate</td>\n",
       "      <td>Susc</td>\n",
       "    </tr>\n",
       "    <tr>\n",
       "      <th>65</th>\n",
       "      <td>1742-6</td>\n",
       "      <td>Alanine aminotransferase [Enzymatic activity/v...</td>\n",
       "      <td>Alanine aminotransferase</td>\n",
       "      <td>Ser/Plas</td>\n",
       "      <td>CCnc</td>\n",
       "    </tr>\n",
       "    <tr>\n",
       "      <th>66</th>\n",
       "      <td>18865-6</td>\n",
       "      <td>Ampicillin+Sulbactam [Susceptibility]</td>\n",
       "      <td>Ampicillin+Sulbactam</td>\n",
       "      <td>Isolate</td>\n",
       "      <td>Susc</td>\n",
       "    </tr>\n",
       "  </tbody>\n",
       "</table>\n",
       "<p>67 rows × 5 columns</p>\n",
       "</div>"
      ],
      "text/plain": [
       "   loinc_num                                   long_common_name  \\\n",
       "0    33870-7  Bilirubin.total [Presence] in Unspecified spec...   \n",
       "1    29265-6  Calcium [Moles/volume] corrected for albumin i...   \n",
       "2    14423-8    Bilirubin.total [Mass/volume] in Synovial fluid   \n",
       "3    23658-8                  Other Antibiotic [Susceptibility]   \n",
       "4    19000-9                        Vancomycin [Susceptibility]   \n",
       "..       ...                                                ...   \n",
       "62   26484-6                      Monocytes [#/volume] in Blood   \n",
       "63    1250-0                  Major crossmatch [interpretation]   \n",
       "64   18864-9                        Ampicillin [Susceptibility]   \n",
       "65    1742-6  Alanine aminotransferase [Enzymatic activity/v...   \n",
       "66   18865-6              Ampicillin+Sulbactam [Susceptibility]   \n",
       "\n",
       "                         component    system property  \n",
       "0                        Bilirubin       XXX    PrThr  \n",
       "1   Calcium^^corrected for albumin  Ser/Plas     SCnc  \n",
       "2                        Bilirubin  Synv fld     MCnc  \n",
       "3                   Antibiotic XXX   Isolate     Susc  \n",
       "4                       Vancomycin   Isolate     Susc  \n",
       "..                             ...       ...      ...  \n",
       "62                       Monocytes       Bld     NCnc  \n",
       "63                Major crossmatch  Ser/Plas      Imp  \n",
       "64                      Ampicillin   Isolate     Susc  \n",
       "65        Alanine aminotransferase  Ser/Plas     CCnc  \n",
       "66            Ampicillin+Sulbactam   Isolate     Susc  \n",
       "\n",
       "[67 rows x 5 columns]"
      ]
     },
     "execution_count": 3,
     "metadata": {},
     "output_type": "execute_result"
    }
   ],
   "source": [
    "# We eliminate irrelevant information\n",
    "glucose_df.drop('comments', axis=1)\n",
    "bilirubin_df.drop('comments', axis=1)\n",
    "wbc_df.drop('comments', axis=1)"
   ]
  },
  {
   "cell_type": "code",
   "execution_count": 4,
   "metadata": {},
   "outputs": [],
   "source": [
    "# Using OneHotEncoder\n",
    "ohe = preprocessing.OneHotEncoder(sparse_output=False)\n",
    "glucose_df = pd.DataFrame(ohe.fit_transform(glucose_df),\n",
    "                          columns=ohe.get_feature_names_out(glucose_df.columns.tolist()),\n",
    "                          index=glucose_df.index)\n",
    "bilirubin_df = pd.DataFrame(ohe.fit_transform(bilirubin_df),\n",
    "                            columns=ohe.get_feature_names_out(bilirubin_df.columns.tolist()),\n",
    "                            index=bilirubin_df.index)\n",
    "wbc_df = pd.DataFrame(ohe.fit_transform(wbc_df),\n",
    "                      columns=ohe.get_feature_names_out(wbc_df.columns.tolist()),\n",
    "                      index=wbc_df.index)"
   ]
  },
  {
   "attachments": {},
   "cell_type": "markdown",
   "metadata": {},
   "source": [
    "WE TRAIN AN ADARANK MODEL USING THE METHOD IMPORTED FROM SKLEARN"
   ]
  },
  {
   "attachments": {},
   "cell_type": "markdown",
   "metadata": {},
   "source": [
    "Query: Glucose in Blood"
   ]
  },
  {
   "cell_type": "code",
   "execution_count": 5,
   "metadata": {},
   "outputs": [
    {
     "name": "stdout",
     "output_type": "stream",
     "text": [
      "Model NDCG score: 0.9406070950390077\n",
      "Iterations needed to achieve a score above 0.9: 8\n"
     ]
    }
   ],
   "source": [
    "iter = 0\n",
    "while(True):\n",
    "    iter = iter+1\n",
    "    X_train, X_test, y_train, y_test = train_test_split(glucose_df, glucose_target, test_size=0.2)\n",
    "    estimator = DecisionTreeRegressor(max_depth=1)\n",
    "    model = AdaBoostRegressor(estimator=estimator, n_estimators=100, loss='linear')\n",
    "    model.fit(X_train, y_train)\n",
    "    y_pred = model.predict(X_test)\n",
    "    ndcg = ndcg_score([y_test], [y_pred], k=X_test.shape[1])\n",
    "    if ndcg >= 0.9:\n",
    "        print('Model NDCG score:', ndcg)\n",
    "        print(\"Iterations needed to achieve a score above 0.9:\", iter)\n",
    "        break\n"
   ]
  },
  {
   "attachments": {},
   "cell_type": "markdown",
   "metadata": {},
   "source": [
    "Query: Bilirubin in Plasma"
   ]
  },
  {
   "cell_type": "code",
   "execution_count": 6,
   "metadata": {},
   "outputs": [
    {
     "name": "stdout",
     "output_type": "stream",
     "text": [
      "Model NDCG score: 0.923928388719314\n",
      "Iterations needed to achieve a score above 0.9: 1\n"
     ]
    }
   ],
   "source": [
    "iter = 0\n",
    "while(True):\n",
    "    iter = iter+1\n",
    "    X_train, X_test, y_train, y_test = train_test_split(bilirubin_df, bilirubin_target, test_size=0.2)\n",
    "    estimator = DecisionTreeRegressor(max_depth=1)\n",
    "    model = AdaBoostRegressor(estimator=estimator, n_estimators=100, loss='linear')\n",
    "    model.fit(X_train, y_train)\n",
    "    y_pred = model.predict(X_test)\n",
    "    ndcg = ndcg_score([y_test], [y_pred], k=X_test.shape[1])\n",
    "    if ndcg >= 0.9:\n",
    "        print('Model NDCG score:', ndcg)\n",
    "        print(\"Iterations needed to achieve a score above 0.9:\", iter)\n",
    "        break"
   ]
  },
  {
   "attachments": {},
   "cell_type": "markdown",
   "metadata": {},
   "source": [
    "Query: White Blood Cells Count"
   ]
  },
  {
   "cell_type": "code",
   "execution_count": 7,
   "metadata": {},
   "outputs": [
    {
     "name": "stdout",
     "output_type": "stream",
     "text": [
      "Model NDCG score: 0.923928388719314\n",
      "Iterations needed to achieve a score above 0.9: 64\n"
     ]
    }
   ],
   "source": [
    "iter = 0\n",
    "while(True):\n",
    "    iter = iter+1\n",
    "    X_train, X_test, y_train, y_test = train_test_split(wbc_df, wbc_target, test_size=0.2)\n",
    "    estimator = DecisionTreeRegressor(max_depth=1)\n",
    "    model = AdaBoostRegressor(estimator=estimator, n_estimators=100, loss='linear')\n",
    "    model.fit(X_train, y_train)\n",
    "    y_pred = model.predict(X_test)\n",
    "    ndcg = ndcg_score([y_test], [y_pred], k=X_test.shape[1])\n",
    "    if ndcg >= 0.9:\n",
    "        print('Model NDCG score:', ndcg)\n",
    "        print(\"Iterations needed to achieve a score above 0.9:\", iter)\n",
    "        break"
   ]
  },
  {
   "attachments": {},
   "cell_type": "markdown",
   "metadata": {},
   "source": [
    "#### EXTENDING THE DATASETS"
   ]
  },
  {
   "cell_type": "code",
   "execution_count": 8,
   "metadata": {},
   "outputs": [],
   "source": [
    "# Load the new data\n",
    "extended_glucose_df = pd.read_excel('extended_loinc_dataset-v2.xlsx', sheet_name = \"glucose in blood\")\n",
    "extended_bilirubin_df = pd.read_excel('extended_loinc_dataset-v2.xlsx', sheet_name = \"bilirubin in plasma\")\n",
    "extended_wbc_df = pd.read_excel('extended_loinc_dataset-v2.xlsx', sheet_name = \"White blood cells count\")\n",
    "extended_glucose_target = extended_glucose_df.pop('relevant')\n",
    "extended_bilirubin_target = extended_bilirubin_df.pop('relevant')\n",
    "extended_wbc_target = extended_wbc_df.pop('relevant')"
   ]
  },
  {
   "cell_type": "code",
   "execution_count": 9,
   "metadata": {},
   "outputs": [
    {
     "data": {
      "text/html": [
       "<div>\n",
       "<style scoped>\n",
       "    .dataframe tbody tr th:only-of-type {\n",
       "        vertical-align: middle;\n",
       "    }\n",
       "\n",
       "    .dataframe tbody tr th {\n",
       "        vertical-align: top;\n",
       "    }\n",
       "\n",
       "    .dataframe thead th {\n",
       "        text-align: right;\n",
       "    }\n",
       "</style>\n",
       "<table border=\"1\" class=\"dataframe\">\n",
       "  <thead>\n",
       "    <tr style=\"text-align: right;\">\n",
       "      <th></th>\n",
       "      <th>loinc_num</th>\n",
       "      <th>long_common_name</th>\n",
       "      <th>component</th>\n",
       "      <th>system</th>\n",
       "      <th>property</th>\n",
       "    </tr>\n",
       "  </thead>\n",
       "  <tbody>\n",
       "    <tr>\n",
       "      <th>0</th>\n",
       "      <td>33870-7</td>\n",
       "      <td>Bilirubin.total [Presence] in Unspecified spec...</td>\n",
       "      <td>Bilirubin</td>\n",
       "      <td>XXX</td>\n",
       "      <td>PrThr</td>\n",
       "    </tr>\n",
       "    <tr>\n",
       "      <th>1</th>\n",
       "      <td>29265-6</td>\n",
       "      <td>Calcium [Moles/volume] corrected for albumin i...</td>\n",
       "      <td>Calcium^^corrected for albumin</td>\n",
       "      <td>Ser/Plas</td>\n",
       "      <td>SCnc</td>\n",
       "    </tr>\n",
       "    <tr>\n",
       "      <th>2</th>\n",
       "      <td>14423-8</td>\n",
       "      <td>Bilirubin.total [Mass/volume] in Synovial fluid</td>\n",
       "      <td>Bilirubin</td>\n",
       "      <td>Synv fld</td>\n",
       "      <td>MCnc</td>\n",
       "    </tr>\n",
       "    <tr>\n",
       "      <th>3</th>\n",
       "      <td>23658-8</td>\n",
       "      <td>Other Antibiotic [Susceptibility]</td>\n",
       "      <td>Antibiotic XXX</td>\n",
       "      <td>Isolate</td>\n",
       "      <td>Susc</td>\n",
       "    </tr>\n",
       "    <tr>\n",
       "      <th>4</th>\n",
       "      <td>19000-9</td>\n",
       "      <td>Vancomycin [Susceptibility]</td>\n",
       "      <td>Vancomycin</td>\n",
       "      <td>Isolate</td>\n",
       "      <td>Susc</td>\n",
       "    </tr>\n",
       "    <tr>\n",
       "      <th>...</th>\n",
       "      <td>...</td>\n",
       "      <td>...</td>\n",
       "      <td>...</td>\n",
       "      <td>...</td>\n",
       "      <td>...</td>\n",
       "    </tr>\n",
       "    <tr>\n",
       "      <th>82</th>\n",
       "      <td>14385-9</td>\n",
       "      <td>Mononuclear cells/100 leukocytes in Gastric fl...</td>\n",
       "      <td>Mononuclear cells/100 leukocytes</td>\n",
       "      <td>Gast fld</td>\n",
       "      <td>NFr</td>\n",
       "    </tr>\n",
       "    <tr>\n",
       "      <th>83</th>\n",
       "      <td>74396-3</td>\n",
       "      <td>Large unstained cells/100 leukocytes in Cord b...</td>\n",
       "      <td>Large unstained cells/100 leukocytes</td>\n",
       "      <td>BldCo</td>\n",
       "      <td>NFr</td>\n",
       "    </tr>\n",
       "    <tr>\n",
       "      <th>84</th>\n",
       "      <td>31160-5</td>\n",
       "      <td>Polymorphonuclear cells/100 leukocytes in Bloo...</td>\n",
       "      <td>Polymorphonuclear cells/100 leukocytes</td>\n",
       "      <td>Bld</td>\n",
       "      <td>NFr</td>\n",
       "    </tr>\n",
       "    <tr>\n",
       "      <th>85</th>\n",
       "      <td>40650-4</td>\n",
       "      <td>Mesothelial cells/100 leukocytes in Blood by M...</td>\n",
       "      <td>Mesothelial cells/100 leukocytes</td>\n",
       "      <td>Bld</td>\n",
       "      <td>NFr</td>\n",
       "    </tr>\n",
       "    <tr>\n",
       "      <th>86</th>\n",
       "      <td>95227-5</td>\n",
       "      <td>Other cells/100 leukocytes in Stem cell produc...</td>\n",
       "      <td>Other cells/100 leukocytes</td>\n",
       "      <td>^Stem cell product</td>\n",
       "      <td>NFr</td>\n",
       "    </tr>\n",
       "  </tbody>\n",
       "</table>\n",
       "<p>87 rows × 5 columns</p>\n",
       "</div>"
      ],
      "text/plain": [
       "   loinc_num                                   long_common_name  \\\n",
       "0    33870-7  Bilirubin.total [Presence] in Unspecified spec...   \n",
       "1    29265-6  Calcium [Moles/volume] corrected for albumin i...   \n",
       "2    14423-8    Bilirubin.total [Mass/volume] in Synovial fluid   \n",
       "3    23658-8                  Other Antibiotic [Susceptibility]   \n",
       "4    19000-9                        Vancomycin [Susceptibility]   \n",
       "..       ...                                                ...   \n",
       "82   14385-9  Mononuclear cells/100 leukocytes in Gastric fl...   \n",
       "83   74396-3  Large unstained cells/100 leukocytes in Cord b...   \n",
       "84   31160-5  Polymorphonuclear cells/100 leukocytes in Bloo...   \n",
       "85   40650-4  Mesothelial cells/100 leukocytes in Blood by M...   \n",
       "86   95227-5  Other cells/100 leukocytes in Stem cell produc...   \n",
       "\n",
       "                                 component              system property  \n",
       "0                                Bilirubin                 XXX    PrThr  \n",
       "1           Calcium^^corrected for albumin            Ser/Plas     SCnc  \n",
       "2                                Bilirubin            Synv fld     MCnc  \n",
       "3                           Antibiotic XXX             Isolate     Susc  \n",
       "4                               Vancomycin             Isolate     Susc  \n",
       "..                                     ...                 ...      ...  \n",
       "82        Mononuclear cells/100 leukocytes            Gast fld      NFr  \n",
       "83    Large unstained cells/100 leukocytes               BldCo      NFr  \n",
       "84  Polymorphonuclear cells/100 leukocytes                 Bld      NFr  \n",
       "85        Mesothelial cells/100 leukocytes                 Bld      NFr  \n",
       "86              Other cells/100 leukocytes  ^Stem cell product      NFr  \n",
       "\n",
       "[87 rows x 5 columns]"
      ]
     },
     "execution_count": 9,
     "metadata": {},
     "output_type": "execute_result"
    }
   ],
   "source": [
    "# We eliminate irrelevant information\n",
    "extended_glucose_df.drop('comments', axis=1)\n",
    "extended_bilirubin_df.drop('comments', axis=1)\n",
    "extended_wbc_df.drop('comments', axis=1)"
   ]
  },
  {
   "cell_type": "code",
   "execution_count": 10,
   "metadata": {},
   "outputs": [],
   "source": [
    "# Using OneHotEncoder\n",
    "ohe = preprocessing.OneHotEncoder(sparse_output=False)\n",
    "extended_glucose_df = pd.DataFrame(ohe.fit_transform(extended_glucose_df), \n",
    "                                   columns=ohe.get_feature_names_out(extended_glucose_df.columns.tolist()),\n",
    "                                   index=extended_glucose_df.index)\n",
    "extended_bilirubin_df = pd.DataFrame(ohe.fit_transform(extended_bilirubin_df), \n",
    "                                     columns=ohe.get_feature_names_out(extended_bilirubin_df.columns.tolist()),\n",
    "                                     index=extended_bilirubin_df.index)\n",
    "extended_wbc_df = pd.DataFrame(ohe.fit_transform(extended_wbc_df), \n",
    "                               columns=ohe.get_feature_names_out(extended_wbc_df.columns.tolist()),\n",
    "                               index=extended_wbc_df.index)"
   ]
  },
  {
   "attachments": {},
   "cell_type": "markdown",
   "metadata": {},
   "source": [
    "WE TRAIN AN ADARANK MODEL USING THE METHOD IMPORTED FROM SKLEARN"
   ]
  },
  {
   "attachments": {},
   "cell_type": "markdown",
   "metadata": {},
   "source": [
    "Query: Glucose in Blood"
   ]
  },
  {
   "cell_type": "code",
   "execution_count": 11,
   "metadata": {},
   "outputs": [
    {
     "name": "stdout",
     "output_type": "stream",
     "text": [
      "Model NDCG score: 0.9573320761578596\n",
      "Iterations needed to achieve a score above 0.9: 1\n"
     ]
    }
   ],
   "source": [
    "iter = 0\n",
    "while(True):\n",
    "    iter = iter+1\n",
    "    X_train, X_test, y_train, y_test = train_test_split(extended_glucose_df, extended_glucose_target, test_size=0.2)\n",
    "    estimator = DecisionTreeRegressor(max_depth=1)\n",
    "    model = AdaBoostRegressor(estimator=estimator, n_estimators=100, loss='linear')\n",
    "    model.fit(X_train, y_train)\n",
    "    y_pred = model.predict(X_test)\n",
    "    ndcg = ndcg_score([y_test], [y_pred], k=X_test.shape[1])\n",
    "    if ndcg >= 0.9:\n",
    "        print('Model NDCG score:', ndcg)\n",
    "        print(\"Iterations needed to achieve a score above 0.9:\", iter)\n",
    "        break"
   ]
  },
  {
   "attachments": {},
   "cell_type": "markdown",
   "metadata": {},
   "source": [
    "Query: Bilirubin in Plasma"
   ]
  },
  {
   "cell_type": "code",
   "execution_count": 12,
   "metadata": {},
   "outputs": [
    {
     "name": "stdout",
     "output_type": "stream",
     "text": [
      "Model NDCG score: 0.9655899797903305\n",
      "Iterations needed to achieve a score above 0.9: 1\n"
     ]
    }
   ],
   "source": [
    "iter = 0\n",
    "while(True):\n",
    "    iter = iter+1\n",
    "    X_train, X_test, y_train, y_test = train_test_split(extended_bilirubin_df, extended_bilirubin_target, test_size=0.2)\n",
    "    estimator = DecisionTreeRegressor(max_depth=1)\n",
    "    model = AdaBoostRegressor(estimator=estimator, n_estimators=100, loss='linear')\n",
    "    model.fit(X_train, y_train)\n",
    "    y_pred = model.predict(X_test)\n",
    "    ndcg = ndcg_score([y_test], [y_pred], k=X_test.shape[1])\n",
    "    if ndcg >= 0.9:\n",
    "        print('Model NDCG score:', ndcg)\n",
    "        print(\"Iterations needed to achieve a score above 0.9:\", iter)\n",
    "        break"
   ]
  },
  {
   "attachments": {},
   "cell_type": "markdown",
   "metadata": {},
   "source": [
    "Query: White Blood Cells Count"
   ]
  },
  {
   "cell_type": "code",
   "execution_count": 13,
   "metadata": {},
   "outputs": [
    {
     "name": "stdout",
     "output_type": "stream",
     "text": [
      "Model NDCG score: 0.9564129441125335\n",
      "Iterations needed to achieve a score above 0.9: 1\n"
     ]
    }
   ],
   "source": [
    "iter = 0\n",
    "while(True):\n",
    "    iter = iter+1\n",
    "    X_train, X_test, y_train, y_test = train_test_split(extended_wbc_df, extended_wbc_target, test_size=0.2)\n",
    "    estimator = DecisionTreeRegressor(max_depth=1)\n",
    "    model = AdaBoostRegressor(estimator=estimator, n_estimators=100, loss='linear')\n",
    "    model.fit(X_train, y_train)\n",
    "    y_pred = model.predict(X_test)\n",
    "    ndcg = ndcg_score([y_test], [y_pred], k=X_test.shape[1])\n",
    "    if ndcg >= 0.9:\n",
    "        print('Model NDCG score:', ndcg)\n",
    "        print(\"Iterations needed to achieve a score above 0.9:\", iter)\n",
    "        break"
   ]
  }
 ],
 "metadata": {
  "kernelspec": {
   "display_name": "Python 3",
   "language": "python",
   "name": "python3"
  },
  "language_info": {
   "codemirror_mode": {
    "name": "ipython",
    "version": 3
   },
   "file_extension": ".py",
   "mimetype": "text/x-python",
   "name": "python",
   "nbconvert_exporter": "python",
   "pygments_lexer": "ipython3",
   "version": "3.10.9"
  },
  "orig_nbformat": 4
 },
 "nbformat": 4,
 "nbformat_minor": 2
}
